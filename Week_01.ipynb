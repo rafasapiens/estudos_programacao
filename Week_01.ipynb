{
  "nbformat": 4,
  "nbformat_minor": 0,
  "metadata": {
    "colab": {
      "name": "Week_01.ipynb",
      "provenance": [],
      "collapsed_sections": [],
      "authorship_tag": "ABX9TyPgYX/L9Y2LaigGvbaTzL3A",
      "include_colab_link": true
    },
    "kernelspec": {
      "name": "python3",
      "display_name": "Python 3"
    },
    "language_info": {
      "name": "python"
    }
  },
  "cells": [
    {
      "cell_type": "markdown",
      "metadata": {
        "id": "view-in-github",
        "colab_type": "text"
      },
      "source": [
        "<a href=\"https://colab.research.google.com/github/rafasapiens/estudos_programacao/blob/master/Week_01.ipynb\" target=\"_parent\"><img src=\"https://colab.research.google.com/assets/colab-badge.svg\" alt=\"Open In Colab\"/></a>"
      ]
    },
    {
      "cell_type": "code",
      "metadata": {
        "id": "NICuKaI_2Gi_"
      },
      "source": [
        "# Week 01"
      ],
      "execution_count": null,
      "outputs": []
    },
    {
      "cell_type": "code",
      "metadata": {
        "colab": {
          "base_uri": "https://localhost:8080/"
        },
        "id": "Q53boQbU52g0",
        "outputId": "15889740-bef8-4b91-8469-883e5b261079"
      },
      "source": [
        "#this is python\n",
        "print('Hello, Buddy!')"
      ],
      "execution_count": null,
      "outputs": [
        {
          "output_type": "stream",
          "name": "stdout",
          "text": [
            "Hello, Buddy!\n"
          ]
        }
      ]
    },
    {
      "cell_type": "code",
      "metadata": {
        "colab": {
          "base_uri": "https://localhost:8080/"
        },
        "id": "zonovjjA8K_-",
        "outputId": "c9c45ef6-d010-40d4-d1ed-5f59c5932b0f"
      },
      "source": [
        "# guessing game\n",
        "from random import randint\n",
        "from IPython.display import clear_output\n",
        "guessed = False\n",
        "number = randint(0, 100)\n",
        "guesses = 0\n",
        "while not guessed:\n",
        "    ans = input(\"Tente adivinhar o número que estou pensando!\")\n",
        "    # use tab para identar\n",
        "    guesses += 1\n",
        "    clear_output()\n",
        "    if int(ans) == number:\n",
        "        print(\"Parabéns! Você adivinhou!\")\n",
        "        print(\"It took you {} guesses!\".format(guesses))\n",
        "        break\n",
        "    elif int(ans) > number:\n",
        "        print(\"O número é menor\")\n",
        "\n",
        "    elif int(ans) < number:\n",
        "        print(\"O número é maior que o jogado\")"
      ],
      "execution_count": 37,
      "outputs": [
        {
          "output_type": "stream",
          "name": "stdout",
          "text": [
            "Parabéns! Você adivinhou!\n",
            "It took you 7 guesses!\n"
          ]
        }
      ]
    },
    {
      "cell_type": "code",
      "metadata": {
        "id": "j09bVIi0CSol"
      },
      "source": [
        ""
      ],
      "execution_count": null,
      "outputs": []
    }
  ]
}